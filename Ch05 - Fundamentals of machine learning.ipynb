{
 "cells": [
  {
   "cell_type": "markdown",
   "id": "fd965ab3",
   "metadata": {},
   "source": [
    "### Generalization: The goal of machine learning"
   ]
  },
  {
   "cell_type": "code",
   "execution_count": 2,
   "id": "b9f72b6e",
   "metadata": {},
   "outputs": [
    {
     "name": "stdout",
     "output_type": "stream",
     "text": [
      "Downloading data from https://storage.googleapis.com/tensorflow/tf-keras-datasets/mnist.npz\n",
      "11493376/11490434 [==============================] - 3s 0us/step\n",
      "11501568/11490434 [==============================] - 3s 0us/step\n"
     ]
    }
   ],
   "source": [
    "from tensorflow.keras.datasets import mnist\n",
    "import numpy as np\n",
    "\n",
    "(train_images, train_labels), _ = mnist.load_data()\n",
    "train_images = train_images.reshape((60000, 28 * 28))\n",
    "train_images = train_images.astype('float32') / 255\n",
    "\n",
    "train_images_with_noise_channels = np.concatenate(\n",
    "    [train_images, np.random.random((len(train_images), 784))], axis=1)\n",
    "\n",
    "train_images_with_zeros_channels = np.concatenate(\n",
    "    [train_images, np.zeros((len(train_images), 784))], axis=1)"
   ]
  },
  {
   "cell_type": "code",
   "execution_count": 3,
   "id": "7a35b219",
   "metadata": {},
   "outputs": [],
   "source": [
    "from tensorflow import keras\n",
    "from tensorflow.keras import layers"
   ]
  },
  {
   "cell_type": "code",
   "execution_count": 7,
   "id": "69db4446",
   "metadata": {},
   "outputs": [
    {
     "name": "stdout",
     "output_type": "stream",
     "text": [
      "Epoch 1/10\n",
      "375/375 [==============================] - 6s 14ms/step - loss: 0.6143 - accuracy: 0.8130 - val_loss: 0.2615 - val_accuracy: 0.9241\n",
      "Epoch 2/10\n",
      "375/375 [==============================] - 5s 13ms/step - loss: 0.2392 - accuracy: 0.9262 - val_loss: 0.2257 - val_accuracy: 0.9291\n",
      "Epoch 3/10\n",
      "375/375 [==============================] - 5s 14ms/step - loss: 0.1573 - accuracy: 0.9507 - val_loss: 0.1385 - val_accuracy: 0.9595\n",
      "Epoch 4/10\n",
      "375/375 [==============================] - 5s 13ms/step - loss: 0.1136 - accuracy: 0.9645 - val_loss: 0.1268 - val_accuracy: 0.9636\n",
      "Epoch 5/10\n",
      "375/375 [==============================] - 5s 14ms/step - loss: 0.0846 - accuracy: 0.9733 - val_loss: 0.1370 - val_accuracy: 0.9607\n",
      "Epoch 6/10\n",
      "375/375 [==============================] - 5s 14ms/step - loss: 0.0616 - accuracy: 0.9809 - val_loss: 0.2001 - val_accuracy: 0.9410\n",
      "Epoch 7/10\n",
      "375/375 [==============================] - 5s 14ms/step - loss: 0.0454 - accuracy: 0.9859 - val_loss: 0.1329 - val_accuracy: 0.9640\n",
      "Epoch 8/10\n",
      "375/375 [==============================] - 6s 15ms/step - loss: 0.0344 - accuracy: 0.9886 - val_loss: 0.1208 - val_accuracy: 0.9693\n",
      "Epoch 9/10\n",
      "375/375 [==============================] - 6s 17ms/step - loss: 0.0261 - accuracy: 0.9913 - val_loss: 0.1323 - val_accuracy: 0.9694\n",
      "Epoch 10/10\n",
      "375/375 [==============================] - 6s 15ms/step - loss: 0.0197 - accuracy: 0.9940 - val_loss: 0.1254 - val_accuracy: 0.9701\n",
      "Epoch 1/10\n",
      "375/375 [==============================] - 6s 15ms/step - loss: 0.0515 - accuracy: 0.9843 - val_loss: 0.0889 - val_accuracy: 0.9768\n",
      "Epoch 2/10\n",
      "375/375 [==============================] - 6s 16ms/step - loss: 0.0339 - accuracy: 0.9893 - val_loss: 0.0892 - val_accuracy: 0.9771\n",
      "Epoch 3/10\n",
      "375/375 [==============================] - 6s 16ms/step - loss: 0.0254 - accuracy: 0.9925 - val_loss: 0.0918 - val_accuracy: 0.9749\n",
      "Epoch 4/10\n",
      "375/375 [==============================] - 6s 16ms/step - loss: 0.0192 - accuracy: 0.9944 - val_loss: 0.0896 - val_accuracy: 0.9770\n",
      "Epoch 5/10\n",
      "375/375 [==============================] - 6s 16ms/step - loss: 0.0151 - accuracy: 0.9959 - val_loss: 0.0915 - val_accuracy: 0.9781\n",
      "Epoch 6/10\n",
      "375/375 [==============================] - 7s 17ms/step - loss: 0.0114 - accuracy: 0.9969 - val_loss: 0.0893 - val_accuracy: 0.9787\n",
      "Epoch 7/10\n",
      "375/375 [==============================] - 7s 19ms/step - loss: 0.0087 - accuracy: 0.9975 - val_loss: 0.0920 - val_accuracy: 0.9792\n",
      "Epoch 8/10\n",
      "375/375 [==============================] - 6s 16ms/step - loss: 0.0064 - accuracy: 0.9982 - val_loss: 0.0950 - val_accuracy: 0.9787\n",
      "Epoch 9/10\n",
      "375/375 [==============================] - 6s 16ms/step - loss: 0.0044 - accuracy: 0.9990 - val_loss: 0.1015 - val_accuracy: 0.9794\n",
      "Epoch 10/10\n",
      "375/375 [==============================] - 6s 16ms/step - loss: 0.0036 - accuracy: 0.9991 - val_loss: 0.0994 - val_accuracy: 0.9806\n"
     ]
    }
   ],
   "source": [
    "def get_model():\n",
    "    model = keras.Sequential([\n",
    "        layers.Dense(512, activation='relu'),\n",
    "        layers.Dense(10, activation='softmax')\n",
    "    ])\n",
    "    model.compile(optimizer='rmsprop',\n",
    "                 loss='sparse_categorical_crossentropy',\n",
    "                 metrics=['accuracy'])\n",
    "    return model\n",
    "model = get_model()\n",
    "history_noise = model.fit(\n",
    "                train_images_with_noise_channels, train_labels,\n",
    "                epochs=10, batch_size=128,validation_split=0.2)\n",
    "history_zeros = model.fit(\n",
    "                train_images_with_zeros_channels, train_labels,\n",
    "                epochs=10, batch_size=128,validation_split=0.2)"
   ]
  },
  {
   "cell_type": "markdown",
   "id": "d05416a7",
   "metadata": {},
   "source": [
    "Plotting validation vs accuracy"
   ]
  },
  {
   "cell_type": "code",
   "execution_count": 8,
   "id": "a25d1965",
   "metadata": {},
   "outputs": [
    {
     "data": {
      "text/plain": [
       "<matplotlib.legend.Legend at 0x7f8de51e41f0>"
      ]
     },
     "execution_count": 8,
     "metadata": {},
     "output_type": "execute_result"
    },
    {
     "data": {
      "image/png": "[encoded data removed]",
      "text/plain": [
       "<Figure size 432x288 with 1 Axes>"
      ]
     },
     "metadata": {
      "needs_background": "light"
     },
     "output_type": "display_data"
    }
   ],
   "source": [
    "import matplotlib.pyplot as plt\n",
    "val_acc_noise = history_noise.history['val_accuracy']\n",
    "val_acc_zeros = history_zeros.history['val_accuracy']\n",
    "epochs = range(1, 11)\n",
    "plt.plot(epochs, val_acc_noise, 'b-',\n",
    "         label='Validation accuracy with noise channels')\n",
    "plt.plot(epochs, val_acc_zeros, 'b--',\n",
    "         label='Validation accuracy with zeros channels')\n",
    "plt.title('Effect of noise channels on validation accuracy')\n",
    "plt.xlabel('Epochs')\n",
    "plt.ylabel('Accuracy')\n",
    "plt.legend()"
   ]
  },
  {
   "cell_type": "markdown",
   "id": "fbe72031",
   "metadata": {},
   "source": [
    "Fitting MNIST model with randomly shuffled labels"
   ]
  },
  {
   "cell_type": "code",
   "execution_count": 11,
   "id": "502b6df7",
   "metadata": {},
   "outputs": [
    {
     "name": "stdout",
     "output_type": "stream",
     "text": [
      "Epoch 1/100\n",
      "375/375 [==============================] - 3s 8ms/step - loss: 2.3169 - accuracy: 0.1032 - val_loss: 2.3085 - val_accuracy: 0.1047\n",
      "Epoch 2/100\n",
      "375/375 [==============================] - 3s 8ms/step - loss: 2.2995 - accuracy: 0.1175 - val_loss: 2.3164 - val_accuracy: 0.0989\n",
      "Epoch 3/100\n",
      "375/375 [==============================] - 3s 7ms/step - loss: 2.2896 - accuracy: 0.1288 - val_loss: 2.3266 - val_accuracy: 0.0973\n",
      "Epoch 4/100\n",
      "375/375 [==============================] - 3s 7ms/step - loss: 2.2751 - accuracy: 0.1428 - val_loss: 2.3325 - val_accuracy: 0.0993\n",
      "Epoch 5/100\n",
      "375/375 [==============================] - 3s 8ms/step - loss: 2.2575 - accuracy: 0.1576 - val_loss: 2.3467 - val_accuracy: 0.0990\n",
      "Epoch 6/100\n",
      "375/375 [==============================] - 2s 7ms/step - loss: 2.2358 - accuracy: 0.1696 - val_loss: 2.3519 - val_accuracy: 0.0977\n",
      "Epoch 7/100\n",
      "375/375 [==============================] - 3s 8ms/step - loss: 2.2128 - accuracy: 0.1820 - val_loss: 2.3763 - val_accuracy: 0.0993\n",
      "Epoch 8/100\n",
      "375/375 [==============================] - 3s 8ms/step - loss: 2.1839 - accuracy: 0.2004 - val_loss: 2.3974 - val_accuracy: 0.0964\n",
      "Epoch 9/100\n",
      "375/375 [==============================] - 3s 7ms/step - loss: 2.1544 - accuracy: 0.2154 - val_loss: 2.4179 - val_accuracy: 0.0993\n",
      "Epoch 10/100\n",
      "375/375 [==============================] - 3s 8ms/step - loss: 2.1222 - accuracy: 0.2306 - val_loss: 2.4409 - val_accuracy: 0.0994\n",
      "Epoch 11/100\n",
      "375/375 [==============================] - 3s 8ms/step - loss: 2.0884 - accuracy: 0.2483 - val_loss: 2.4570 - val_accuracy: 0.0965\n",
      "Epoch 12/100\n",
      "375/375 [==============================] - 3s 7ms/step - loss: 2.0556 - accuracy: 0.2630 - val_loss: 2.4864 - val_accuracy: 0.0984\n",
      "Epoch 13/100\n",
      "375/375 [==============================] - 3s 8ms/step - loss: 2.0209 - accuracy: 0.2765 - val_loss: 2.5132 - val_accuracy: 0.0975\n",
      "Epoch 14/100\n",
      "375/375 [==============================] - 3s 7ms/step - loss: 1.9862 - accuracy: 0.2932 - val_loss: 2.5442 - val_accuracy: 0.1019\n",
      "Epoch 15/100\n",
      "375/375 [==============================] - 3s 7ms/step - loss: 1.9503 - accuracy: 0.3118 - val_loss: 2.5678 - val_accuracy: 0.0960\n",
      "Epoch 16/100\n",
      "375/375 [==============================] - 3s 7ms/step - loss: 1.9164 - accuracy: 0.3253 - val_loss: 2.5960 - val_accuracy: 0.0998\n",
      "Epoch 17/100\n",
      "375/375 [==============================] - 3s 7ms/step - loss: 1.8809 - accuracy: 0.3391 - val_loss: 2.6503 - val_accuracy: 0.0990\n",
      "Epoch 18/100\n",
      "375/375 [==============================] - 3s 8ms/step - loss: 1.8452 - accuracy: 0.3571 - val_loss: 2.6793 - val_accuracy: 0.0957\n",
      "Epoch 19/100\n",
      "375/375 [==============================] - 3s 9ms/step - loss: 1.8127 - accuracy: 0.3673 - val_loss: 2.7045 - val_accuracy: 0.0992\n",
      "Epoch 20/100\n",
      "375/375 [==============================] - 3s 7ms/step - loss: 1.7795 - accuracy: 0.3792 - val_loss: 2.7493 - val_accuracy: 0.1016\n",
      "Epoch 21/100\n",
      "375/375 [==============================] - 3s 8ms/step - loss: 1.7468 - accuracy: 0.3927 - val_loss: 2.7931 - val_accuracy: 0.0978\n",
      "Epoch 22/100\n",
      "375/375 [==============================] - 3s 8ms/step - loss: 1.7167 - accuracy: 0.4053 - val_loss: 2.8048 - val_accuracy: 0.1011\n",
      "Epoch 23/100\n",
      "375/375 [==============================] - 3s 8ms/step - loss: 1.6844 - accuracy: 0.4166 - val_loss: 2.8933 - val_accuracy: 0.1018\n",
      "Epoch 24/100\n",
      "375/375 [==============================] - 3s 8ms/step - loss: 1.6558 - accuracy: 0.4255 - val_loss: 2.9326 - val_accuracy: 0.0982\n",
      "Epoch 25/100\n",
      "375/375 [==============================] - 3s 8ms/step - loss: 1.6258 - accuracy: 0.4387 - val_loss: 2.9568 - val_accuracy: 0.0979\n",
      "Epoch 26/100\n",
      "375/375 [==============================] - 3s 7ms/step - loss: 1.5942 - accuracy: 0.4507 - val_loss: 2.9933 - val_accuracy: 0.1002\n",
      "Epoch 27/100\n",
      "375/375 [==============================] - 3s 8ms/step - loss: 1.5663 - accuracy: 0.4617 - val_loss: 3.0643 - val_accuracy: 0.1015\n",
      "Epoch 28/100\n",
      "375/375 [==============================] - 3s 9ms/step - loss: 1.5374 - accuracy: 0.4730 - val_loss: 3.0902 - val_accuracy: 0.1015\n",
      "Epoch 29/100\n",
      "375/375 [==============================] - 3s 8ms/step - loss: 1.5139 - accuracy: 0.4807 - val_loss: 3.1125 - val_accuracy: 0.0982\n",
      "Epoch 30/100\n",
      "375/375 [==============================] - 3s 8ms/step - loss: 1.4856 - accuracy: 0.4915 - val_loss: 3.1790 - val_accuracy: 0.1018\n",
      "Epoch 31/100\n",
      "375/375 [==============================] - 3s 8ms/step - loss: 1.4591 - accuracy: 0.5017 - val_loss: 3.2130 - val_accuracy: 0.0989\n",
      "Epoch 32/100\n",
      "375/375 [==============================] - 3s 8ms/step - loss: 1.4356 - accuracy: 0.5095 - val_loss: 3.2492 - val_accuracy: 0.1028\n",
      "Epoch 33/100\n",
      "375/375 [==============================] - 3s 8ms/step - loss: 1.4110 - accuracy: 0.5178 - val_loss: 3.3014 - val_accuracy: 0.0980\n",
      "Epoch 34/100\n",
      "375/375 [==============================] - 3s 8ms/step - loss: 1.3846 - accuracy: 0.5294 - val_loss: 3.3757 - val_accuracy: 0.0994\n",
      "Epoch 35/100\n",
      "375/375 [==============================] - 3s 9ms/step - loss: 1.3627 - accuracy: 0.5371 - val_loss: 3.4177 - val_accuracy: 0.1003\n",
      "Epoch 36/100\n",
      "375/375 [==============================] - 3s 8ms/step - loss: 1.3400 - accuracy: 0.5459 - val_loss: 3.4732 - val_accuracy: 0.1019\n",
      "Epoch 37/100\n",
      "375/375 [==============================] - 3s 9ms/step - loss: 1.3169 - accuracy: 0.5548 - val_loss: 3.5147 - val_accuracy: 0.0972\n",
      "Epoch 38/100\n",
      "375/375 [==============================] - 3s 9ms/step - loss: 1.2943 - accuracy: 0.5620 - val_loss: 3.5744 - val_accuracy: 0.0990\n",
      "Epoch 39/100\n",
      "375/375 [==============================] - 3s 8ms/step - loss: 1.2741 - accuracy: 0.5681 - val_loss: 3.6191 - val_accuracy: 0.0986\n",
      "Epoch 40/100\n",
      "375/375 [==============================] - 3s 8ms/step - loss: 1.2509 - accuracy: 0.5774 - val_loss: 3.6888 - val_accuracy: 0.0990\n",
      "Epoch 41/100\n",
      "375/375 [==============================] - 3s 9ms/step - loss: 1.2325 - accuracy: 0.5840 - val_loss: 3.6991 - val_accuracy: 0.0996\n",
      "Epoch 42/100\n",
      "375/375 [==============================] - 4s 10ms/step - loss: 1.2114 - accuracy: 0.5918 - val_loss: 3.7473 - val_accuracy: 0.0991\n",
      "Epoch 43/100\n",
      "375/375 [==============================] - 3s 8ms/step - loss: 1.1912 - accuracy: 0.5985 - val_loss: 3.8194 - val_accuracy: 0.0983\n",
      "Epoch 44/100\n",
      "375/375 [==============================] - 3s 9ms/step - loss: 1.1725 - accuracy: 0.6055 - val_loss: 3.8978 - val_accuracy: 0.0988\n",
      "Epoch 45/100\n",
      "375/375 [==============================] - 3s 9ms/step - loss: 1.1527 - accuracy: 0.6113 - val_loss: 3.9241 - val_accuracy: 0.1007\n",
      "Epoch 46/100\n",
      "375/375 [==============================] - 3s 9ms/step - loss: 1.1343 - accuracy: 0.6205 - val_loss: 3.9553 - val_accuracy: 0.1015\n",
      "Epoch 47/100\n",
      "375/375 [==============================] - 3s 8ms/step - loss: 1.1159 - accuracy: 0.6257 - val_loss: 4.0217 - val_accuracy: 0.0992\n",
      "Epoch 48/100\n",
      "375/375 [==============================] - 3s 9ms/step - loss: 1.0995 - accuracy: 0.6304 - val_loss: 4.0881 - val_accuracy: 0.1010\n",
      "Epoch 49/100\n",
      "375/375 [==============================] - 4s 10ms/step - loss: 1.0838 - accuracy: 0.6381 - val_loss: 4.1528 - val_accuracy: 0.0986\n",
      "Epoch 50/100\n",
      "375/375 [==============================] - 3s 9ms/step - loss: 1.0609 - accuracy: 0.6447 - val_loss: 4.1912 - val_accuracy: 0.0990\n",
      "Epoch 51/100\n",
      "375/375 [==============================] - 3s 8ms/step - loss: 1.0475 - accuracy: 0.6520 - val_loss: 4.2546 - val_accuracy: 0.0985\n",
      "Epoch 52/100\n",
      "375/375 [==============================] - 3s 9ms/step - loss: 1.0294 - accuracy: 0.6578 - val_loss: 4.3019 - val_accuracy: 0.0994\n",
      "Epoch 53/100\n",
      "375/375 [==============================] - 3s 9ms/step - loss: 1.0144 - accuracy: 0.6620 - val_loss: 4.3554 - val_accuracy: 0.1012\n",
      "Epoch 54/100\n",
      "375/375 [==============================] - 3s 9ms/step - loss: 0.9984 - accuracy: 0.6669 - val_loss: 4.4506 - val_accuracy: 0.0988\n",
      "Epoch 55/100\n",
      "375/375 [==============================] - 3s 8ms/step - loss: 0.9829 - accuracy: 0.6710 - val_loss: 4.4676 - val_accuracy: 0.0997\n",
      "Epoch 56/100\n",
      "375/375 [==============================] - 3s 9ms/step - loss: 0.9673 - accuracy: 0.6776 - val_loss: 4.5650 - val_accuracy: 0.1002\n",
      "Epoch 57/100\n",
      "375/375 [==============================] - 3s 9ms/step - loss: 0.9547 - accuracy: 0.6833 - val_loss: 4.6400 - val_accuracy: 0.0996\n"
     ]
    },
    {
     "name": "stdout",
     "output_type": "stream",
     "text": [
      "Epoch 58/100\n",
      "375/375 [==============================] - 3s 8ms/step - loss: 0.9352 - accuracy: 0.6880 - val_loss: 4.6517 - val_accuracy: 0.0972\n",
      "Epoch 59/100\n",
      "375/375 [==============================] - 3s 8ms/step - loss: 0.9233 - accuracy: 0.6930 - val_loss: 4.7250 - val_accuracy: 0.1002\n",
      "Epoch 60/100\n",
      "375/375 [==============================] - 3s 9ms/step - loss: 0.9088 - accuracy: 0.6987 - val_loss: 4.7683 - val_accuracy: 0.0978\n",
      "Epoch 61/100\n",
      "375/375 [==============================] - 3s 9ms/step - loss: 0.8966 - accuracy: 0.7032 - val_loss: 4.8346 - val_accuracy: 0.0999\n",
      "Epoch 62/100\n",
      "375/375 [==============================] - 3s 9ms/step - loss: 0.8824 - accuracy: 0.7070 - val_loss: 4.8807 - val_accuracy: 0.0961\n",
      "Epoch 63/100\n",
      "375/375 [==============================] - 3s 8ms/step - loss: 0.8703 - accuracy: 0.7133 - val_loss: 4.9574 - val_accuracy: 0.0999\n",
      "Epoch 64/100\n",
      "375/375 [==============================] - 3s 9ms/step - loss: 0.8562 - accuracy: 0.7179 - val_loss: 4.9960 - val_accuracy: 0.0992\n",
      "Epoch 65/100\n",
      "375/375 [==============================] - 3s 9ms/step - loss: 0.8402 - accuracy: 0.7228 - val_loss: 5.0977 - val_accuracy: 0.1002\n",
      "Epoch 66/100\n",
      "375/375 [==============================] - 3s 9ms/step - loss: 0.8322 - accuracy: 0.7260 - val_loss: 5.1515 - val_accuracy: 0.1007\n",
      "Epoch 67/100\n",
      "375/375 [==============================] - 3s 8ms/step - loss: 0.8181 - accuracy: 0.7328 - val_loss: 5.2549 - val_accuracy: 0.1001\n",
      "Epoch 68/100\n",
      "375/375 [==============================] - 3s 9ms/step - loss: 0.8062 - accuracy: 0.7356 - val_loss: 5.2620 - val_accuracy: 0.0992\n",
      "Epoch 69/100\n",
      "375/375 [==============================] - 3s 9ms/step - loss: 0.7923 - accuracy: 0.7391 - val_loss: 5.2967 - val_accuracy: 0.1018\n",
      "Epoch 70/100\n",
      "375/375 [==============================] - 3s 8ms/step - loss: 0.7815 - accuracy: 0.7428 - val_loss: 5.3921 - val_accuracy: 0.0989\n",
      "Epoch 71/100\n",
      "375/375 [==============================] - 3s 9ms/step - loss: 0.7700 - accuracy: 0.7461 - val_loss: 5.4543 - val_accuracy: 0.1026\n",
      "Epoch 72/100\n",
      "375/375 [==============================] - 3s 9ms/step - loss: 0.7584 - accuracy: 0.7519 - val_loss: 5.5181 - val_accuracy: 0.0986\n",
      "Epoch 73/100\n",
      "375/375 [==============================] - 3s 9ms/step - loss: 0.7482 - accuracy: 0.7558 - val_loss: 5.6142 - val_accuracy: 0.0983\n",
      "Epoch 74/100\n",
      "375/375 [==============================] - 3s 8ms/step - loss: 0.7355 - accuracy: 0.7586 - val_loss: 5.6736 - val_accuracy: 0.0991\n",
      "Epoch 75/100\n",
      "375/375 [==============================] - 4s 11ms/step - loss: 0.7267 - accuracy: 0.7619 - val_loss: 5.7005 - val_accuracy: 0.0978\n",
      "Epoch 76/100\n",
      "375/375 [==============================] - 3s 9ms/step - loss: 0.7146 - accuracy: 0.7669 - val_loss: 5.7506 - val_accuracy: 0.1017\n",
      "Epoch 77/100\n",
      "375/375 [==============================] - 3s 9ms/step - loss: 0.7030 - accuracy: 0.7704 - val_loss: 5.8694 - val_accuracy: 0.1002\n",
      "Epoch 78/100\n",
      "375/375 [==============================] - 3s 9ms/step - loss: 0.6951 - accuracy: 0.7730 - val_loss: 5.9328 - val_accuracy: 0.1017\n",
      "Epoch 79/100\n",
      "375/375 [==============================] - 3s 8ms/step - loss: 0.6849 - accuracy: 0.7777 - val_loss: 5.9824 - val_accuracy: 0.1022\n",
      "Epoch 80/100\n",
      "375/375 [==============================] - 3s 9ms/step - loss: 0.6749 - accuracy: 0.7784 - val_loss: 6.0176 - val_accuracy: 0.0996\n",
      "Epoch 81/100\n",
      "375/375 [==============================] - 3s 9ms/step - loss: 0.6648 - accuracy: 0.7833 - val_loss: 6.0959 - val_accuracy: 0.0987\n",
      "Epoch 82/100\n",
      "375/375 [==============================] - 3s 8ms/step - loss: 0.6559 - accuracy: 0.7868 - val_loss: 6.1275 - val_accuracy: 0.1021\n",
      "Epoch 83/100\n",
      "375/375 [==============================] - 3s 9ms/step - loss: 0.6448 - accuracy: 0.7893 - val_loss: 6.2008 - val_accuracy: 0.1002\n",
      "Epoch 84/100\n",
      "375/375 [==============================] - 4s 10ms/step - loss: 0.6381 - accuracy: 0.7921 - val_loss: 6.2880 - val_accuracy: 0.0963\n",
      "Epoch 85/100\n",
      "375/375 [==============================] - 4s 10ms/step - loss: 0.6252 - accuracy: 0.7974 - val_loss: 6.3540 - val_accuracy: 0.1004\n",
      "Epoch 86/100\n",
      "375/375 [==============================] - 3s 8ms/step - loss: 0.6183 - accuracy: 0.7984 - val_loss: 6.4670 - val_accuracy: 0.1007\n",
      "Epoch 87/100\n",
      "375/375 [==============================] - 3s 9ms/step - loss: 0.6091 - accuracy: 0.8032 - val_loss: 6.5182 - val_accuracy: 0.0993\n",
      "Epoch 88/100\n",
      "375/375 [==============================] - 4s 10ms/step - loss: 0.6011 - accuracy: 0.8062 - val_loss: 6.5336 - val_accuracy: 0.0991\n",
      "Epoch 89/100\n",
      "375/375 [==============================] - 3s 9ms/step - loss: 0.5929 - accuracy: 0.8058 - val_loss: 6.5895 - val_accuracy: 0.1015\n",
      "Epoch 90/100\n",
      "375/375 [==============================] - 3s 9ms/step - loss: 0.5820 - accuracy: 0.8119 - val_loss: 6.7054 - val_accuracy: 0.0998\n",
      "Epoch 91/100\n",
      "375/375 [==============================] - 3s 8ms/step - loss: 0.5759 - accuracy: 0.8129 - val_loss: 6.7920 - val_accuracy: 0.0991\n",
      "Epoch 92/100\n",
      "375/375 [==============================] - 3s 9ms/step - loss: 0.5687 - accuracy: 0.8151 - val_loss: 6.8761 - val_accuracy: 0.0983\n",
      "Epoch 93/100\n",
      "375/375 [==============================] - 3s 9ms/step - loss: 0.5608 - accuracy: 0.8186 - val_loss: 6.9291 - val_accuracy: 0.0993\n",
      "Epoch 94/100\n",
      "375/375 [==============================] - 3s 8ms/step - loss: 0.5521 - accuracy: 0.8218 - val_loss: 6.9605 - val_accuracy: 0.0965\n",
      "Epoch 95/100\n",
      "375/375 [==============================] - 3s 9ms/step - loss: 0.5455 - accuracy: 0.8249 - val_loss: 7.0863 - val_accuracy: 0.1020\n",
      "Epoch 96/100\n",
      "375/375 [==============================] - 3s 9ms/step - loss: 0.5392 - accuracy: 0.8269 - val_loss: 7.1485 - val_accuracy: 0.1023\n",
      "Epoch 97/100\n",
      "375/375 [==============================] - 3s 9ms/step - loss: 0.5297 - accuracy: 0.8299 - val_loss: 7.1583 - val_accuracy: 0.1015\n",
      "Epoch 98/100\n",
      "375/375 [==============================] - 3s 8ms/step - loss: 0.5216 - accuracy: 0.8311 - val_loss: 7.2831 - val_accuracy: 0.0996\n",
      "Epoch 99/100\n",
      "375/375 [==============================] - 3s 9ms/step - loss: 0.5164 - accuracy: 0.8341 - val_loss: 7.2582 - val_accuracy: 0.1005\n",
      "Epoch 100/100\n",
      "375/375 [==============================] - 3s 9ms/step - loss: 0.5066 - accuracy: 0.8376 - val_loss: 7.4216 - val_accuracy: 0.1029\n"
     ]
    },
    {
     "data": {
      "text/plain": [
       "<keras.callbacks.History at 0x7f8de6dc2040>"
      ]
     },
     "execution_count": 11,
     "metadata": {},
     "output_type": "execute_result"
    }
   ],
   "source": [
    "(train_images, train_labels), _ = mnist.load_data()\n",
    "train_images = train_images.reshape((60000, 28 * 28))\n",
    "train_images = train_images.astype('float32') / 255\n",
    "\n",
    "random_train_labels = train_labels[:]\n",
    "np.random.shuffle(random_train_labels)\n",
    "\n",
    "model = keras.Sequential([\n",
    "    layers.Dense(512, activation='relu'),\n",
    "    layers.Dense(10, activation='softmax')\n",
    "])\n",
    "model.compile(optimizer='rmsprop',\n",
    "             loss='sparse_categorical_crossentropy',\n",
    "             metrics=['accuracy'])\n",
    "model.fit(train_images,random_train_labels,\n",
    "         epochs=100, batch_size=128, validation_split=0.2)"
   ]
  },
  {
   "cell_type": "markdown",
   "id": "a23f0288",
   "metadata": {},
   "source": [
    "### Evaluating machine learning models"
   ]
  },
  {
   "cell_type": "markdown",
   "id": "e9f905d7",
   "metadata": {},
   "source": [
    "### Improving model fit"
   ]
  },
  {
   "cell_type": "code",
   "execution_count": 12,
   "id": "a2c0d42b",
   "metadata": {},
   "outputs": [
    {
     "name": "stdout",
     "output_type": "stream",
     "text": [
      "Epoch 1/10\n",
      "375/375 [==============================] - 6s 14ms/step - loss: 4981.2910 - accuracy: 0.1082 - val_loss: 2.3805 - val_accuracy: 0.0975\n",
      "Epoch 2/10\n",
      "375/375 [==============================] - 5s 13ms/step - loss: 70.9160 - accuracy: 0.1020 - val_loss: 2.4139 - val_accuracy: 0.0996\n",
      "Epoch 3/10\n",
      "375/375 [==============================] - 5s 14ms/step - loss: 28.5935 - accuracy: 0.1014 - val_loss: 2.3499 - val_accuracy: 0.0915\n",
      "Epoch 4/10\n",
      "375/375 [==============================] - 5s 14ms/step - loss: 15.7495 - accuracy: 0.1015 - val_loss: 2.5198 - val_accuracy: 0.0957\n",
      "Epoch 5/10\n",
      "375/375 [==============================] - 5s 13ms/step - loss: 11.0847 - accuracy: 0.1007 - val_loss: 2.3195 - val_accuracy: 0.0914\n",
      "Epoch 6/10\n",
      "375/375 [==============================] - 5s 15ms/step - loss: 2.4498 - accuracy: 0.1018 - val_loss: 2.4341 - val_accuracy: 0.1082\n",
      "Epoch 7/10\n",
      "375/375 [==============================] - 6s 15ms/step - loss: 2.4466 - accuracy: 0.1021 - val_loss: 2.4516 - val_accuracy: 0.1081\n",
      "Epoch 8/10\n",
      "375/375 [==============================] - 6s 17ms/step - loss: 2.4516 - accuracy: 0.1011 - val_loss: 2.4699 - val_accuracy: 0.1081\n",
      "Epoch 9/10\n",
      "375/375 [==============================] - 6s 15ms/step - loss: 2.4522 - accuracy: 0.1002 - val_loss: 2.3858 - val_accuracy: 0.0914\n",
      "Epoch 10/10\n",
      "375/375 [==============================] - 6s 15ms/step - loss: 2.4545 - accuracy: 0.0963 - val_loss: 2.4655 - val_accuracy: 0.1060\n"
     ]
    },
    {
     "data": {
      "text/plain": [
       "<keras.callbacks.History at 0x7f8deaa12c40>"
      ]
     },
     "execution_count": 12,
     "metadata": {},
     "output_type": "execute_result"
    }
   ],
   "source": [
    "(train_images, train_labels), _ = mnist.load_data()\n",
    "train_images = train_images.reshape((60000, 28 * 28))\n",
    "train_images = train_images.astype('float32') / 255\n",
    "\n",
    "model = keras.Sequential([\n",
    "    layers.Dense(512, activation='relu'),\n",
    "    layers.Dense(10, activation='softmax')\n",
    "])\n",
    "model.compile(optimizer=keras.optimizers.RMSprop(1.),\n",
    "             loss='sparse_categorical_crossentropy',\n",
    "             metrics=['accuracy'])\n",
    "\n",
    "model.fit(train_images_with_noise_channels, train_labels,\n",
    "          epochs=10, batch_size=128,validation_split=0.2)"
   ]
  },
  {
   "cell_type": "markdown",
   "id": "bdb95b74",
   "metadata": {},
   "source": [
    "Adjusting learning rate"
   ]
  },
  {
   "cell_type": "code",
   "execution_count": 13,
   "id": "6ef18f8c",
   "metadata": {},
   "outputs": [
    {
     "name": "stdout",
     "output_type": "stream",
     "text": [
      "Epoch 1/10\n",
      "375/375 [==============================] - 6s 14ms/step - loss: 1.8016 - accuracy: 0.7556 - val_loss: 0.3059 - val_accuracy: 0.9085\n",
      "Epoch 2/10\n",
      "375/375 [==============================] - 6s 16ms/step - loss: 0.3608 - accuracy: 0.8937 - val_loss: 0.3834 - val_accuracy: 0.8817\n",
      "Epoch 3/10\n",
      "375/375 [==============================] - 5s 14ms/step - loss: 0.2789 - accuracy: 0.9172 - val_loss: 0.2511 - val_accuracy: 0.9273\n",
      "Epoch 4/10\n",
      "375/375 [==============================] - 5s 14ms/step - loss: 0.2379 - accuracy: 0.9300 - val_loss: 0.2197 - val_accuracy: 0.9408\n",
      "Epoch 5/10\n",
      "375/375 [==============================] - 5s 13ms/step - loss: 0.2175 - accuracy: 0.9379 - val_loss: 0.2181 - val_accuracy: 0.9410\n",
      "Epoch 6/10\n",
      "375/375 [==============================] - 5s 13ms/step - loss: 0.1891 - accuracy: 0.9436 - val_loss: 0.2316 - val_accuracy: 0.9373\n",
      "Epoch 7/10\n",
      "375/375 [==============================] - 5s 14ms/step - loss: 0.1766 - accuracy: 0.9481 - val_loss: 0.2347 - val_accuracy: 0.9439\n",
      "Epoch 8/10\n",
      "375/375 [==============================] - 5s 14ms/step - loss: 0.1679 - accuracy: 0.9514 - val_loss: 0.2694 - val_accuracy: 0.9254\n",
      "Epoch 9/10\n",
      "375/375 [==============================] - 5s 14ms/step - loss: 0.1491 - accuracy: 0.9569 - val_loss: 0.2498 - val_accuracy: 0.9434\n",
      "Epoch 10/10\n",
      "375/375 [==============================] - 5s 14ms/step - loss: 0.1437 - accuracy: 0.9590 - val_loss: 0.2672 - val_accuracy: 0.9456\n"
     ]
    },
    {
     "data": {
      "text/plain": [
       "<keras.callbacks.History at 0x7f8deaa14280>"
      ]
     },
     "execution_count": 13,
     "metadata": {},
     "output_type": "execute_result"
    }
   ],
   "source": [
    "model = keras.Sequential([\n",
    "    layers.Dense(512, activation='relu'),\n",
    "    layers.Dense(10, activation='softmax')\n",
    "])\n",
    "model.compile(optimizer=keras.optimizers.RMSprop(1e-2),\n",
    "             loss='sparse_categorical_crossentropy',\n",
    "             metrics=['accuracy'])\n",
    "\n",
    "model.fit(train_images_with_noise_channels, train_labels,\n",
    "          epochs=10, batch_size=128,validation_split=0.2)"
   ]
  },
  {
   "cell_type": "markdown",
   "id": "a3380947",
   "metadata": {},
   "source": [
    "### Increasing model capacity"
   ]
  },
  {
   "cell_type": "code",
   "execution_count": 14,
   "id": "f2c74356",
   "metadata": {
    "scrolled": true
   },
   "outputs": [
    {
     "name": "stdout",
     "output_type": "stream",
     "text": [
      "Epoch 1/20\n",
      "375/375 [==============================] - 2s 4ms/step - loss: 0.6529 - accuracy: 0.8413 - val_loss: 0.3581 - val_accuracy: 0.9032\n",
      "Epoch 2/20\n",
      "375/375 [==============================] - 1s 2ms/step - loss: 0.3506 - accuracy: 0.9039 - val_loss: 0.3059 - val_accuracy: 0.9163\n",
      "Epoch 3/20\n",
      "375/375 [==============================] - 1s 2ms/step - loss: 0.3156 - accuracy: 0.9130 - val_loss: 0.2902 - val_accuracy: 0.9178\n",
      "Epoch 4/20\n",
      "375/375 [==============================] - 1s 2ms/step - loss: 0.2995 - accuracy: 0.9168 - val_loss: 0.2799 - val_accuracy: 0.9222\n",
      "Epoch 5/20\n",
      "375/375 [==============================] - 1s 4ms/step - loss: 0.2898 - accuracy: 0.9201 - val_loss: 0.2750 - val_accuracy: 0.9233\n",
      "Epoch 6/20\n",
      "375/375 [==============================] - 1s 3ms/step - loss: 0.2834 - accuracy: 0.9210 - val_loss: 0.2721 - val_accuracy: 0.9262\n",
      "Epoch 7/20\n",
      "375/375 [==============================] - 1s 2ms/step - loss: 0.2783 - accuracy: 0.9230 - val_loss: 0.2698 - val_accuracy: 0.9256\n",
      "Epoch 8/20\n",
      "375/375 [==============================] - 1s 2ms/step - loss: 0.2747 - accuracy: 0.9237 - val_loss: 0.2681 - val_accuracy: 0.9271\n",
      "Epoch 9/20\n",
      "375/375 [==============================] - 1s 4ms/step - loss: 0.2714 - accuracy: 0.9243 - val_loss: 0.2654 - val_accuracy: 0.9282\n",
      "Epoch 10/20\n",
      "375/375 [==============================] - 1s 3ms/step - loss: 0.2689 - accuracy: 0.9253 - val_loss: 0.2630 - val_accuracy: 0.9284\n",
      "Epoch 11/20\n",
      "375/375 [==============================] - 1s 2ms/step - loss: 0.2669 - accuracy: 0.9258 - val_loss: 0.2639 - val_accuracy: 0.9288\n",
      "Epoch 12/20\n",
      "375/375 [==============================] - 1s 2ms/step - loss: 0.2650 - accuracy: 0.9267 - val_loss: 0.2618 - val_accuracy: 0.9291\n",
      "Epoch 13/20\n",
      "375/375 [==============================] - 1s 2ms/step - loss: 0.2635 - accuracy: 0.9269 - val_loss: 0.2630 - val_accuracy: 0.9304\n",
      "Epoch 14/20\n",
      "375/375 [==============================] - 1s 3ms/step - loss: 0.2619 - accuracy: 0.9278 - val_loss: 0.2626 - val_accuracy: 0.9286\n",
      "Epoch 15/20\n",
      "375/375 [==============================] - 1s 3ms/step - loss: 0.2604 - accuracy: 0.9281 - val_loss: 0.2621 - val_accuracy: 0.9301\n",
      "Epoch 16/20\n",
      "375/375 [==============================] - 1s 2ms/step - loss: 0.2594 - accuracy: 0.9283 - val_loss: 0.2629 - val_accuracy: 0.9296\n",
      "Epoch 17/20\n",
      "375/375 [==============================] - 1s 3ms/step - loss: 0.2585 - accuracy: 0.9286 - val_loss: 0.2598 - val_accuracy: 0.9315\n",
      "Epoch 18/20\n",
      "375/375 [==============================] - 1s 3ms/step - loss: 0.2575 - accuracy: 0.9296 - val_loss: 0.2623 - val_accuracy: 0.9311\n",
      "Epoch 19/20\n",
      "375/375 [==============================] - 1s 2ms/step - loss: 0.2562 - accuracy: 0.9302 - val_loss: 0.2611 - val_accuracy: 0.9309\n",
      "Epoch 20/20\n",
      "375/375 [==============================] - 1s 3ms/step - loss: 0.2557 - accuracy: 0.9299 - val_loss: 0.2611 - val_accuracy: 0.9311\n"
     ]
    }
   ],
   "source": [
    "model = keras.Sequential([layers.Dense(10, activation='softmax')])\n",
    "model.compile(optimizer='rmsprop',\n",
    "              loss='sparse_categorical_crossentropy',\n",
    "              metrics=['accuracy'])\n",
    "history_small_model = model.fit(\n",
    "    train_images, train_labels,\n",
    "    epochs=20,\n",
    "    batch_size=128,\n",
    "    validation_split=0.2)"
   ]
  },
  {
   "cell_type": "code",
   "execution_count": 15,
   "id": "54959bcf",
   "metadata": {},
   "outputs": [
    {
     "data": {
      "text/plain": [
       "<matplotlib.legend.Legend at 0x7f8de87140d0>"
      ]
     },
     "execution_count": 15,
     "metadata": {},
     "output_type": "execute_result"
    },
    {
     "data": {
      "image/png": "[encoded data removed]",
      "text/plain": [
       "<Figure size 432x288 with 1 Axes>"
      ]
     },
     "metadata": {
      "needs_background": "light"
     },
     "output_type": "display_data"
    }
   ],
   "source": [
    "import matplotlib.pyplot as plt\n",
    "val_loss = history_small_model.history['val_loss']\n",
    "epochs = range(1, 21)\n",
    "plt.plot(epochs, val_loss, 'b--',\n",
    "         label='Validation loss')\n",
    "plt.title('Effect of insufficient model capacity on validation loss')\n",
    "plt.xlabel('Epochs')\n",
    "plt.ylabel('Loss')\n",
    "plt.legend()"
   ]
  },
  {
   "cell_type": "code",
   "execution_count": 16,
   "id": "33a56219",
   "metadata": {
    "scrolled": true
   },
   "outputs": [
    {
     "name": "stdout",
     "output_type": "stream",
     "text": [
      "Epoch 1/20\n",
      "375/375 [==============================] - 3s 5ms/step - loss: 0.3572 - accuracy: 0.8996 - val_loss: 0.1717 - val_accuracy: 0.9503\n",
      "Epoch 2/20\n",
      "375/375 [==============================] - 2s 4ms/step - loss: 0.1572 - accuracy: 0.9530 - val_loss: 0.1430 - val_accuracy: 0.9583\n",
      "Epoch 3/20\n",
      "375/375 [==============================] - 2s 5ms/step - loss: 0.1110 - accuracy: 0.9665 - val_loss: 0.1091 - val_accuracy: 0.9672\n",
      "Epoch 4/20\n",
      "375/375 [==============================] - 2s 4ms/step - loss: 0.0863 - accuracy: 0.9744 - val_loss: 0.1059 - val_accuracy: 0.9685\n",
      "Epoch 5/20\n",
      "375/375 [==============================] - 1s 3ms/step - loss: 0.0683 - accuracy: 0.9792 - val_loss: 0.0968 - val_accuracy: 0.9715\n",
      "Epoch 6/20\n",
      "375/375 [==============================] - 2s 5ms/step - loss: 0.0563 - accuracy: 0.9827 - val_loss: 0.0930 - val_accuracy: 0.9735\n",
      "Epoch 7/20\n",
      "375/375 [==============================] - 1s 3ms/step - loss: 0.0458 - accuracy: 0.9861 - val_loss: 0.0921 - val_accuracy: 0.9744\n",
      "Epoch 8/20\n",
      "375/375 [==============================] - 1s 3ms/step - loss: 0.0394 - accuracy: 0.9881 - val_loss: 0.0942 - val_accuracy: 0.9729\n",
      "Epoch 9/20\n",
      "375/375 [==============================] - 2s 4ms/step - loss: 0.0329 - accuracy: 0.9896 - val_loss: 0.0957 - val_accuracy: 0.9738\n",
      "Epoch 10/20\n",
      "375/375 [==============================] - 1s 4ms/step - loss: 0.0270 - accuracy: 0.9914 - val_loss: 0.0986 - val_accuracy: 0.9731\n",
      "Epoch 11/20\n",
      "375/375 [==============================] - 2s 5ms/step - loss: 0.0232 - accuracy: 0.9929 - val_loss: 0.1017 - val_accuracy: 0.9736\n",
      "Epoch 12/20\n",
      "375/375 [==============================] - 2s 4ms/step - loss: 0.0192 - accuracy: 0.9937 - val_loss: 0.1041 - val_accuracy: 0.9744\n",
      "Epoch 13/20\n",
      "375/375 [==============================] - 2s 4ms/step - loss: 0.0159 - accuracy: 0.9949 - val_loss: 0.1036 - val_accuracy: 0.9753\n",
      "Epoch 14/20\n",
      "375/375 [==============================] - 2s 5ms/step - loss: 0.0137 - accuracy: 0.9956 - val_loss: 0.1128 - val_accuracy: 0.9758\n",
      "Epoch 15/20\n",
      "375/375 [==============================] - 1s 4ms/step - loss: 0.0121 - accuracy: 0.9962 - val_loss: 0.1149 - val_accuracy: 0.9752\n",
      "Epoch 16/20\n",
      "375/375 [==============================] - 1s 4ms/step - loss: 0.0102 - accuracy: 0.9969 - val_loss: 0.1427 - val_accuracy: 0.9714\n",
      "Epoch 17/20\n",
      "375/375 [==============================] - 2s 5ms/step - loss: 0.0085 - accuracy: 0.9972 - val_loss: 0.1308 - val_accuracy: 0.9739\n",
      "Epoch 18/20\n",
      "375/375 [==============================] - 1s 3ms/step - loss: 0.0074 - accuracy: 0.9977 - val_loss: 0.1301 - val_accuracy: 0.9741\n",
      "Epoch 19/20\n",
      "375/375 [==============================] - 2s 4ms/step - loss: 0.0068 - accuracy: 0.9979 - val_loss: 0.1322 - val_accuracy: 0.9741\n",
      "Epoch 20/20\n",
      "375/375 [==============================] - 2s 4ms/step - loss: 0.0056 - accuracy: 0.9982 - val_loss: 0.1318 - val_accuracy: 0.9768\n"
     ]
    }
   ],
   "source": [
    "model = keras.Sequential([\n",
    "    layers.Dense(96, activation='relu'),\n",
    "    layers.Dense(96, activation='relu'),\n",
    "    layers.Dense(10, activation='softmax'),\n",
    "])\n",
    "model.compile(optimizer='rmsprop',\n",
    "              loss='sparse_categorical_crossentropy',\n",
    "              metrics=['accuracy'])\n",
    "history_large_model = model.fit(\n",
    "    train_images, train_labels,\n",
    "    epochs=20,\n",
    "    batch_size=128,\n",
    "    validation_split=0.2)"
   ]
  },
  {
   "cell_type": "code",
   "execution_count": 18,
   "id": "f8e78576",
   "metadata": {},
   "outputs": [
    {
     "data": {
      "text/plain": [
       "<matplotlib.legend.Legend at 0x7f8de961ea90>"
      ]
     },
     "execution_count": 18,
     "metadata": {},
     "output_type": "execute_result"
    },
    {
     "data": {
      "image/png": "[encoded data removed]",
      "text/plain": [
       "<Figure size 432x288 with 1 Axes>"
      ]
     },
     "metadata": {
      "needs_background": "light"
     },
     "output_type": "display_data"
    }
   ],
   "source": [
    "val_loss = history_large_model.history['val_loss']\n",
    "epochs = range(1, 21)\n",
    "plt.plot(epochs, val_loss, 'b--',\n",
    "         label='Validation loss')\n",
    "plt.title('Effect of insufficient model capacity on validation loss')\n",
    "plt.xlabel('Epochs')\n",
    "plt.ylabel('Loss')\n",
    "plt.legend()"
   ]
  },
  {
   "cell_type": "markdown",
   "id": "c2ce53c4",
   "metadata": {},
   "source": [
    "### Improving generalization"
   ]
  }
 ],
 "metadata": {
  "kernelspec": {
   "display_name": "Python 3 (ipykernel)",
   "language": "python",
   "name": "python3"
  },
  "language_info": {
   "codemirror_mode": {
    "name": "ipython",
    "version": 3
   },
   "file_extension": ".py",
   "mimetype": "text/x-python",
   "name": "python",
   "nbconvert_exporter": "python",
   "pygments_lexer": "ipython3",
   "version": "3.8.13"
  },
  "toc": {
   "base_numbering": 1,
   "nav_menu": {},
   "number_sections": true,
   "sideBar": true,
   "skip_h1_title": false,
   "title_cell": "Table of Contents",
   "title_sidebar": "Contents",
   "toc_cell": false,
   "toc_position": {},
   "toc_section_display": true,
   "toc_window_display": false
  },
  "varInspector": {
   "cols": {
    "lenName": 16,
    "lenType": 16,
    "lenVar": 40
   },
   "kernels_config": {
    "python": {
     "delete_cmd_postfix": "",
     "delete_cmd_prefix": "del ",
     "library": "var_list.py",
     "varRefreshCmd": "print(var_dic_list())"
    },
    "r": {
     "delete_cmd_postfix": ") ",
     "delete_cmd_prefix": "rm(",
     "library": "var_list.r",
     "varRefreshCmd": "cat(var_dic_list()) "
    }
   },
   "types_to_exclude": [
    "module",
    "function",
    "builtin_function_or_method",
    "instance",
    "_Feature"
   ],
   "window_display": false
  }
 },
 "nbformat": 4,
 "nbformat_minor": 5
}
